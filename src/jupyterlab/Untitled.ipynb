{
 "cells": [
  {
   "cell_type": "code",
   "execution_count": 3,
   "metadata": {},
   "outputs": [
    {
     "name": "stdout",
     "output_type": "stream",
     "text": [
      "test: 0\n",
      "test: 1\n",
      "test: 2\n",
      "test: 3\n",
      "test: 4\n",
      "test: 5\n",
      "test: 6\n",
      "test: 7\n",
      "test: 8\n",
      "test: 9\n"
     ]
    }
   ],
   "source": [
    "for i in range(0,10):\n",
    "    print('test: '+str(i))\n",
    "    "
   ]
  }
 ],
 "metadata": {
  "kernelspec": {
   "display_name": "Python 3",
   "language": "python",
   "name": "python3"
  },
  "language_info": {
   "codemirror_mode": {
    "name": "ipython",
    "version": 3
   },
   "file_extension": ".py",
   "mimetype": "text/x-python",
   "name": "python",
   "nbconvert_exporter": "python",
   "pygments_lexer": "ipython3",
   "version": "3.7.3"
  }
 },
 "nbformat": 4,
 "nbformat_minor": 4
}
